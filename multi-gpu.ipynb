{
 "cells": [
  {
   "cell_type": "code",
   "execution_count": 3,
   "id": "e75e9a93",
   "metadata": {},
   "outputs": [],
   "source": [
    "#!pip install deepspeed"
   ]
  },
  {
   "cell_type": "code",
   "execution_count": null,
   "id": "f1d76bf2",
   "metadata": {},
   "outputs": [],
   "source": [
    "from transformers import AutoModelForCausalLM, AutoTokenizer, TrainingArguments, Trainer\n",
    "import deepspeed\n",
    "\n",
    "# Load model and tokenizer\n",
    "model_name = \"gpt2\"  # Replace with your large model\n",
    "tokenizer = AutoTokenizer.from_pretrained(model_name)\n",
    "model = AutoModelForCausalLM.from_pretrained(model_name)\n",
    "\n",
    "# Enable gradient checkpointing to reduce memory usage\n",
    "model.gradient_checkpointing_enable()\n",
    "\n",
    "# Define training arguments with deepspeed\n",
    "training_args = TrainingArguments(\n",
    "    output_dir=\"./results\",\n",
    "    per_device_train_batch_size=1,\n",
    "    gradient_accumulation_steps=16,  # Adjust based on memory capacity\n",
    "    num_train_epochs=3,\n",
    "    learning_rate=5e-5,\n",
    "    logging_dir=\"./logs\",\n",
    "    save_strategy=\"epoch\",\n",
    "    fp16=True,  # Mixed precision training\n",
    "    deepspeed=\"./deepspeed_config.json\"  # Specify the DeepSpeed config file\n",
    ")\n",
    "\n",
    "# Create the DeepSpeed config\n",
    "ds_config = {\n",
    "    \"zero_optimization\": {\n",
    "        \"stage\": 2,  # Enable model sharding\n",
    "        \"offload_optimizer\": {\"device\": \"cpu\", \"pin_memory\": True},\n",
    "        \"offload_param\": {\"device\": \"cpu\", \"pin_memory\": True}\n",
    "    },\n",
    "    \"fp16\": {\n",
    "        \"enabled\": True\n",
    "    }\n",
    "}\n",
    "\n",
    "# Save DeepSpeed config to a JSON file\n",
    "import json\n",
    "with open(\"deepspeed_config.json\", \"w\") as f:\n",
    "    json.dump(ds_config, f)\n",
    "\n",
    "# Prepare training data\n",
    "train_dataset = [\n",
    "    \"Hissain is a AI enthusiast\",\n",
    "    \"Hissain is working on LLM unification\",\n",
    "]\n",
    "\n",
    "# Initialize the Trainer\n",
    "trainer = Trainer(\n",
    "    model=model,\n",
    "    args=training_args,\n",
    "    train_dataset=train_dataset,\n",
    "    tokenizer=tokenizer\n",
    ")\n",
    "\n",
    "# Start training\n",
    "trainer.train()"
   ]
  }
 ],
 "metadata": {
  "kernelspec": {
   "display_name": "Python (myenv)",
   "language": "python",
   "name": "myenv"
  },
  "language_info": {
   "codemirror_mode": {
    "name": "ipython",
    "version": 3
   },
   "file_extension": ".py",
   "mimetype": "text/x-python",
   "name": "python",
   "nbconvert_exporter": "python",
   "pygments_lexer": "ipython3",
   "version": "3.11.5"
  }
 },
 "nbformat": 4,
 "nbformat_minor": 5
}
